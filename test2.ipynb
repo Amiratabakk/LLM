{
 "cells": [
  {
   "cell_type": "code",
   "execution_count": 36,
   "id": "6553672a-f2f1-4ce8-9695-8129dbf3ed8a",
   "metadata": {},
   "outputs": [],
   "source": [
    "import pandas as pd\n",
    "\n",
    "\n",
    "\n",
    "# Load CSV\n",
    "df = pd.read_csv(\"ntrs_complete_csv.csv\")\n",
    "\n",
    "df['Publication Date'] = pd.to_datetime(df['Publication Date'], format=\"%d/%m/%Y\", errors='coerce')\n",
    "\n",
    "# Filter for Subject = Aerodynamics and Year = 1999\n",
    "filtered_df = df[\n",
    "    (df['Subject Categories'] == 'Computer Systems') &\n",
    "    (df['Publication Date'].dt.year == 1985)\n",
    "].dropna(subset=['Title', 'Abstract'])\n"
   ]
  },
  {
   "cell_type": "code",
   "execution_count": 38,
   "id": "6fe86055-1265-4711-b47c-cd5e055d8ac6",
   "metadata": {},
   "outputs": [
    {
     "name": "stdout",
     "output_type": "stream",
     "text": [
      "53\n"
     ]
    }
   ],
   "source": [
    "print(len(filtered_df))"
   ]
  },
  {
   "cell_type": "code",
   "execution_count": 44,
   "id": "92ff6207-27b2-48a1-bdfe-16d7bf1dbedb",
   "metadata": {},
   "outputs": [
    {
     "name": "stdin",
     "output_type": "stream",
     "text": [
      "Enter your Gemini API key:  ········\n"
     ]
    }
   ],
   "source": [
    "import getpass\n",
    "import google.generativeai as genai\n",
    "import json\n",
    "\n",
    "# Prompt for API key securely\n",
    "api_key = getpass.getpass(\"Enter your Gemini API key: \")\n",
    "\n",
    "# Configure Gemini with the entered key\n",
    "genai.configure(api_key=api_key)"
   ]
  },
  {
   "cell_type": "code",
   "execution_count": 52,
   "id": "38715fbb-8e63-4943-9a97-41de6b1d2ef6",
   "metadata": {},
   "outputs": [
    {
     "name": "stdout",
     "output_type": "stream",
     "text": [
      "✅ Extracted 319 triples from 53 studies.\n"
     ]
    }
   ],
   "source": [
    "model = genai.GenerativeModel(\"models/gemini-2.0-flash\")\n",
    "\n",
    "batch_size = 10\n",
    "all_triples = []\n",
    "\n",
    "for i in range(0, len(filtered_df), batch_size):\n",
    "    batch = filtered_df.iloc[i:i+batch_size]\n",
    "\n",
    "    prompt = \"\"\"\n",
    "You are a helpful AI that extracts knowledge graph triples from scientific study titles and abstracts.\n",
    "\n",
    "For each study below, extract the most important knowledge graph triples in the format:\n",
    "[{\"subject\": \"\", \"predicate\": \"\", \"object\": \"\"}, ...]\n",
    "\n",
    "Return a JSON object where each key is the study title, and the value is the list of triples.\n",
    "\n",
    "Studies:\n",
    "\"\"\"\n",
    "\n",
    "    for idx, row in batch.iterrows():\n",
    "        prompt += f\"\"\"\n",
    "{idx+1}. Title: {row['Title']}\n",
    "Abstract: {row['Abstract']}\n",
    "\"\"\"\n",
    "\n",
    "    try:\n",
    "        chat = model.start_chat()\n",
    "        response = chat.send_message(prompt)\n",
    "        text = response.text.strip()\n",
    "\n",
    "        # Try parsing just the JSON part\n",
    "        json_start = text.find(\"{\")\n",
    "        json_end = text.rfind(\"}\") + 1\n",
    "        parsed = json.loads(text[json_start:json_end])\n",
    "\n",
    "        for title, triples in parsed.items():\n",
    "            for t in triples:\n",
    "                all_triples.append(t)\n",
    "\n",
    "    except Exception as e:\n",
    "        print(f\"Error in batch {i}-{i+batch_size}: {e}\")\n",
    "        continue\n",
    "\n",
    "\n",
    "\n",
    "# Save output\n",
    "with open(\"triples_batched.json\", \"w\", encoding=\"utf-8\") as f:\n",
    "    json.dump(all_triples, f, indent=2, ensure_ascii=False)\n",
    "\n",
    "print(f\"Extracted {len(all_triples)} triples from {len(filtered_df)} studies.\")"
   ]
  },
  {
   "cell_type": "code",
   "execution_count": 58,
   "id": "08b846f4-029f-4f09-b5f2-b897331590a0",
   "metadata": {},
   "outputs": [
    {
     "name": "stdout",
     "output_type": "stream",
     "text": [
      "Nodes: 484, Edges: 319\n"
     ]
    }
   ],
   "source": []
  },
  {
   "cell_type": "code",
   "execution_count": 66,
   "id": "51b4132b-35a0-47c0-acdb-d2281e94d7bc",
   "metadata": {},
   "outputs": [
    {
     "name": "stdout",
     "output_type": "stream",
     "text": [
      "Warning: When  cdn_resources is 'local' jupyter notebook has issues displaying graphics on chrome/safari. Use cdn_resources='in_line' or cdn_resources='remote' if you have issues viewing graphics in a notebook.\n",
      "knowledge_graph.html\n"
     ]
    },
    {
     "data": {
      "text/html": [
       "\n",
       "        <iframe\n",
       "            width=\"100%\"\n",
       "            height=\"750px\"\n",
       "            src=\"knowledge_graph.html\"\n",
       "            frameborder=\"0\"\n",
       "            allowfullscreen\n",
       "            \n",
       "        ></iframe>\n",
       "        "
      ],
      "text/plain": [
       "<IPython.lib.display.IFrame at 0x1d6b70f0560>"
      ]
     },
     "execution_count": 66,
     "metadata": {},
     "output_type": "execute_result"
    }
   ],
   "source": [
    "from pyvis.network import Network\n",
    "import networkx as nx\n",
    "import json\n",
    "\n",
    "# Load triples\n",
    "with open(\"triples_batched.json\") as f:\n",
    "    triples = json.load(f)\n",
    "\n",
    "# Create graph\n",
    "G = nx.MultiDiGraph()\n",
    "for triple in triples:\n",
    "    G.add_edge(triple[\"subject\"], triple[\"object\"], label=triple[\"predicate\"])\n",
    "\n",
    "# Render with PyVis\n",
    "net = Network(height=\"750px\", width=\"100%\", notebook=True, directed=True)\n",
    "net.from_nx(G)\n",
    "net.show(\"knowledge_graph.html\")"
   ]
  },
  {
   "cell_type": "code",
   "execution_count": 64,
   "id": "d48dd58b-0f3d-4e77-b0b1-d24a41c6a8ad",
   "metadata": {},
   "outputs": [
    {
     "name": "stdout",
     "output_type": "stream",
     "text": [
      "Warning: When  cdn_resources is 'local' jupyter notebook has issues displaying graphics on chrome/safari. Use cdn_resources='in_line' or cdn_resources='remote' if you have issues viewing graphics in a notebook.\n",
      "test_graph.html\n"
     ]
    },
    {
     "data": {
      "text/html": [
       "\n",
       "        <iframe\n",
       "            width=\"100%\"\n",
       "            height=\"750px\"\n",
       "            src=\"test_graph.html\"\n",
       "            frameborder=\"0\"\n",
       "            allowfullscreen\n",
       "            \n",
       "        ></iframe>\n",
       "        "
      ],
      "text/plain": [
       "<IPython.lib.display.IFrame at 0x1d6fa7f2510>"
      ]
     },
     "execution_count": 64,
     "metadata": {},
     "output_type": "execute_result"
    }
   ],
   "source": []
  },
  {
   "cell_type": "code",
   "execution_count": null,
   "id": "375edf97-d6cc-47c3-b389-2e01b5e0d4b4",
   "metadata": {},
   "outputs": [],
   "source": []
  }
 ],
 "metadata": {
  "kernelspec": {
   "display_name": "Python 3 (ipykernel)",
   "language": "python",
   "name": "python3"
  },
  "language_info": {
   "codemirror_mode": {
    "name": "ipython",
    "version": 3
   },
   "file_extension": ".py",
   "mimetype": "text/x-python",
   "name": "python",
   "nbconvert_exporter": "python",
   "pygments_lexer": "ipython3",
   "version": "3.12.7"
  }
 },
 "nbformat": 4,
 "nbformat_minor": 5
}
